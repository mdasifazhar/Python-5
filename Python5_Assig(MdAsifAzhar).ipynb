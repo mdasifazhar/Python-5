{
 "cells": [
  {
   "cell_type": "markdown",
   "metadata": {},
   "source": [
    "###### 1. Write a function to compute 5/0 and use try/except to catch the exceptions."
   ]
  },
  {
   "cell_type": "code",
   "execution_count": 15,
   "metadata": {},
   "outputs": [
    {
     "name": "stdout",
     "output_type": "stream",
     "text": [
      "You can not divide nbr by zero\n",
      "I got finally executed\n"
     ]
    }
   ],
   "source": [
    "class ExcepHandling:\n",
    "    def divideByZero(self):\n",
    "        try:\n",
    "            result= 5/0\n",
    "            print(result)\n",
    "        except:\n",
    "            print(\"You can not divide nbr by zero\")\n",
    "        finally:\n",
    "            print(\"I got finally executed\")\n",
    "class Test:\n",
    "    obj =  ExcepHandling()\n",
    "    obj.divideByZero()"
   ]
  },
  {
   "cell_type": "markdown",
   "metadata": {},
   "source": [
    "###### 2. Implement a Python program to generate all sentences where subject is in [\"Americans\", \"Indians\"] and verb is in [\"Play\", \"watch\"] and the object is in [\"Baseball\",\"cricket\"].\n",
    "###### Hint: Subject,Verb and Object should be declared in the program as shown below. \n",
    "###### subjects=[\"Americans \",\"Indians\"]\n",
    "###### verbs=[\"play\",\"watch\"]\n",
    "###### objects=[\"Baseball\",\"Cricket\"]\n",
    "###### Output should come as below:\n",
    "###### Americans play Baseball.\n",
    "###### Americans play Cricket.\n",
    "###### Americans watch Baseball.\n",
    "###### Americans watch Cricket.\n",
    "###### Indians play Baseball.\n",
    "###### Indians play Cricket.\n",
    "###### Indians watch Baseball.\n",
    "###### Indians watch Cricket."
   ]
  },
  {
   "cell_type": "code",
   "execution_count": 4,
   "metadata": {},
   "outputs": [
    {
     "name": "stdout",
     "output_type": "stream",
     "text": [
      "Americans play Baseball.\n",
      "Americans play Cricket.\n",
      "Americans watch Baseball.\n",
      "Americans watch Cricket.\n",
      "Indians play Baseball.\n",
      "Indians play Cricket.\n",
      "Indians watch Baseball.\n",
      "Indians watch Cricket.\n"
     ]
    }
   ],
   "source": [
    "subjects=[\"Americans\",\"Indians\"]\n",
    "verbs=[\"play\",\"watch\"]\n",
    "objects=[\"Baseball\",\"Cricket\"]\n",
    "\n",
    "for sub in subjects:\n",
    "    for verb in verbs:\n",
    "        for obj in objects:\n",
    "            print (sub +\" \"+verb+\" \"+obj+\".\")"
   ]
  },
  {
   "cell_type": "code",
   "execution_count": 16,
   "metadata": {},
   "outputs": [
    {
     "data": {
      "text/plain": [
       "['Americans play Baseball',\n",
       " 'Americans play Cricket',\n",
       " 'Americans watch Baseball',\n",
       " 'Americans watch Cricket',\n",
       " 'Indians play Baseball',\n",
       " 'Indians play Cricket',\n",
       " 'Indians watch Baseball',\n",
       " 'Indians watch Cricket']"
      ]
     },
     "execution_count": 16,
     "metadata": {},
     "output_type": "execute_result"
    }
   ],
   "source": [
    "[(sub+\" \"+verb+\" \"+obj) for sub in subjects for verb in verbs for obj in objects]\n"
   ]
  },
  {
   "cell_type": "code",
   "execution_count": null,
   "metadata": {},
   "outputs": [],
   "source": []
  }
 ],
 "metadata": {
  "kernelspec": {
   "display_name": "Python 3",
   "language": "python",
   "name": "python3"
  },
  "language_info": {
   "codemirror_mode": {
    "name": "ipython",
    "version": 3
   },
   "file_extension": ".py",
   "mimetype": "text/x-python",
   "name": "python",
   "nbconvert_exporter": "python",
   "pygments_lexer": "ipython3",
   "version": "3.6.5"
  }
 },
 "nbformat": 4,
 "nbformat_minor": 2
}
